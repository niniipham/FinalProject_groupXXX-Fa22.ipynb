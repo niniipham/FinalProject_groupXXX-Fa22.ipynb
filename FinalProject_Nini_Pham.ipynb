{
 "cells": [
  {
   "cell_type": "markdown",
   "metadata": {},
   "source": [
    "# UC San Diego: Data Science in Practice\n",
    "## Influence of Ethnicity on Baby Naming Trends"
   ]
  },
  {
   "cell_type": "markdown",
   "metadata": {},
   "source": [
    "## Permissions\n",
    "\n",
    "Place an `X` in the appropriate bracket below to specify if you would like your group's project to be made available to the public. (Note that student names will be included (but PIDs will be scraped from any groups who include their PIDs).\n",
    "\n",
    "* [  ] YES - make available\n",
    "* [X] NO - keep private"
   ]
  },
  {
   "cell_type": "markdown",
   "metadata": {},
   "source": [
    "# Names\n",
    "\n",
    "- Nini Pham"
   ]
  },
  {
   "cell_type": "markdown",
   "metadata": {},
   "source": [
    "# Overview"
   ]
  },
  {
   "cell_type": "markdown",
   "metadata": {},
   "source": [
    "My project aimed to look at the naming trends for babies in New York from 2011 to 2019, specifically focusing on understanding the potential influences of demographic factors, particularly ethnicities, on name choices. I seek to uncover insight on the relationship and diversity between names and specific ethnic groups by exploring a comprehensive dataset with baby names, ethnicities, and their popularity. I applied an OLS Regression test with multivariables to explore the possible relationship between baby names and ethnicities."
   ]
  },
  {
   "cell_type": "markdown",
   "metadata": {},
   "source": [
    "<a id='research_question'></a>\n",
    "# Research Question"
   ]
  },
  {
   "cell_type": "markdown",
   "metadata": {},
   "source": [
    "How does ethnicity influence the popularity and diversity of baby names in a diverse environment like New York?"
   ]
  },
  {
   "cell_type": "markdown",
   "metadata": {},
   "source": [
    "<a id='background'></a>\n",
    "\n",
    "## Background & Prior Work"
   ]
  },
  {
   "cell_type": "markdown",
   "metadata": {},
   "source": [
    "Baby names are more than just labels, they are able to carry significant cultural, social, and historical significance. However, baby names can often pose a negative effect on the trajectory of that baby's future. Individuals may face implicit bias and discrimination based on their name and perhaps even fail a few job interviews because of it (Lewis 2015). It is still important to hold on to our heritage and be proud of our names, as naming a baby can be an opportunity to uphold traditions and family history. Other studies even show that children with unusual names can benefit from being teased by learning how to control their emotions and impulses. \n",
    "\n",
    "There seems to be a potential correlation in baby names and ethnicities, as people in Asian and Pacific Islander groups tend to name their baby with names that hold hidden meanings and significant cultural implications. Being an Asian American myself, I was particularly interested in whether or not there was a correlation and if there were certain names that I would recognize or even thought of naming my baby in the future.\n",
    "\n",
    "References (include links):\n",
    "- 1) What Baby Names Tell Us - Cdn.Sisense.Com, cdn.sisense.com/wp-content/uploads/What-Baby-Names-Tell-Us-About-Ethnic-and-Gender-Trends.pdf. Accessed 5 Aug. 2023. \n",
    "https://lifestyle.howstuffworks.com/family/parenting/babies/baby-name-trends-ga2.htm\n",
    "- 2) Lewis, Katherine Reynolds. “Perspective | Baby Names: Should It Matter If They Indicate Your Race?” The Washington Post, 2 Nov. 2021, www.washingtonpost.com/news/parenting/wp/2015/10/19/baby-names-should-it-matter-if-they-indicate-your-race/. \n",
    "- 3) “Baby Name Lists by Origin.” Diverse Baby Names by Origin | The Bump, www.thebump.com/b/baby-name-origins. Accessed 5 Aug. 2023. \n"
   ]
  },
  {
   "cell_type": "markdown",
   "metadata": {},
   "source": [
    "# Hypothesis\n"
   ]
  },
  {
   "cell_type": "markdown",
   "metadata": {},
   "source": [
    "There is a correlation between ethnicity and baby names, such that individuals of specific ethnic backgrounds tend to choose names that are prevalent and culturally significant in their specific ethnic group."
   ]
  },
  {
   "cell_type": "markdown",
   "metadata": {},
   "source": [
    "# Dataset(s)"
   ]
  },
  {
   "cell_type": "markdown",
   "metadata": {},
   "source": [
    "Dataset: Popular Baby Names\n",
    "- Dataset Name: data.cityofnewyork.us\n",
    "- Link to the dataset: 'https://data.cityofnewyork.us/api/views/25th-nujf/rows.csv?accessType=DOWNLOAD'\n",
    "- Number of observations: 57582\n",
    "\n",
    "This csv file was downloaded from the Sex and Ethnic Group Data, who collected this information through civil birth registration. This dataset includes the year of birth, gender, ethnicity, and first name (also its count & rank) of the children being born within 2011 to 2019 in New York. It has 57582 rows and 6 columns. "
   ]
  },
  {
   "cell_type": "markdown",
   "metadata": {},
   "source": [
    "# Data Wrangling"
   ]
  },
  {
   "cell_type": "markdown",
   "metadata": {},
   "source": [
    "* Explain steps taken to pull the data you need into Python."
   ]
  },
  {
   "cell_type": "code",
   "execution_count": 1,
   "metadata": {},
   "outputs": [
    {
     "name": "stderr",
     "output_type": "stream",
     "text": [
      "/opt/conda/lib/python3.9/site-packages/statsmodels/tsa/base/tsa_model.py:7: FutureWarning: pandas.Int64Index is deprecated and will be removed from pandas in a future version. Use pandas.Index with the appropriate dtype instead.\n",
      "  from pandas import (to_datetime, Int64Index, DatetimeIndex, Period,\n",
      "/opt/conda/lib/python3.9/site-packages/statsmodels/tsa/base/tsa_model.py:7: FutureWarning: pandas.Float64Index is deprecated and will be removed from pandas in a future version. Use pandas.Index with the appropriate dtype instead.\n",
      "  from pandas import (to_datetime, Int64Index, DatetimeIndex, Period,\n"
     ]
    }
   ],
   "source": [
    "import numpy as np\n",
    "import pandas as pd\n",
    "import matplotlib.pyplot as plt\n",
    "import seaborn as sns\n",
    "\n",
    "import patsy\n",
    "import statsmodels.api as sm"
   ]
  },
  {
   "cell_type": "markdown",
   "metadata": {},
   "source": [
    "# Data Cleaning"
   ]
  },
  {
   "cell_type": "markdown",
   "metadata": {},
   "source": [
    "First we need to read in data from the csv file and check for any missing values."
   ]
  },
  {
   "cell_type": "code",
   "execution_count": 2,
   "metadata": {},
   "outputs": [
    {
     "data": {
      "text/html": [
       "<div>\n",
       "<style scoped>\n",
       "    .dataframe tbody tr th:only-of-type {\n",
       "        vertical-align: middle;\n",
       "    }\n",
       "\n",
       "    .dataframe tbody tr th {\n",
       "        vertical-align: top;\n",
       "    }\n",
       "\n",
       "    .dataframe thead th {\n",
       "        text-align: right;\n",
       "    }\n",
       "</style>\n",
       "<table border=\"1\" class=\"dataframe\">\n",
       "  <thead>\n",
       "    <tr style=\"text-align: right;\">\n",
       "      <th></th>\n",
       "      <th>Year of Birth</th>\n",
       "      <th>Gender</th>\n",
       "      <th>Ethnicity</th>\n",
       "      <th>Child's First Name</th>\n",
       "      <th>Count</th>\n",
       "      <th>Rank</th>\n",
       "    </tr>\n",
       "  </thead>\n",
       "  <tbody>\n",
       "    <tr>\n",
       "      <th>0</th>\n",
       "      <td>2011</td>\n",
       "      <td>FEMALE</td>\n",
       "      <td>HISPANIC</td>\n",
       "      <td>GERALDINE</td>\n",
       "      <td>13</td>\n",
       "      <td>75</td>\n",
       "    </tr>\n",
       "    <tr>\n",
       "      <th>1</th>\n",
       "      <td>2011</td>\n",
       "      <td>FEMALE</td>\n",
       "      <td>HISPANIC</td>\n",
       "      <td>GIA</td>\n",
       "      <td>21</td>\n",
       "      <td>67</td>\n",
       "    </tr>\n",
       "    <tr>\n",
       "      <th>2</th>\n",
       "      <td>2011</td>\n",
       "      <td>FEMALE</td>\n",
       "      <td>HISPANIC</td>\n",
       "      <td>GIANNA</td>\n",
       "      <td>49</td>\n",
       "      <td>42</td>\n",
       "    </tr>\n",
       "    <tr>\n",
       "      <th>3</th>\n",
       "      <td>2011</td>\n",
       "      <td>FEMALE</td>\n",
       "      <td>HISPANIC</td>\n",
       "      <td>GISELLE</td>\n",
       "      <td>38</td>\n",
       "      <td>51</td>\n",
       "    </tr>\n",
       "    <tr>\n",
       "      <th>4</th>\n",
       "      <td>2011</td>\n",
       "      <td>FEMALE</td>\n",
       "      <td>HISPANIC</td>\n",
       "      <td>GRACE</td>\n",
       "      <td>36</td>\n",
       "      <td>53</td>\n",
       "    </tr>\n",
       "  </tbody>\n",
       "</table>\n",
       "</div>"
      ],
      "text/plain": [
       "   Year of Birth  Gender Ethnicity Child's First Name  Count  Rank\n",
       "0           2011  FEMALE  HISPANIC          GERALDINE     13    75\n",
       "1           2011  FEMALE  HISPANIC                GIA     21    67\n",
       "2           2011  FEMALE  HISPANIC             GIANNA     49    42\n",
       "3           2011  FEMALE  HISPANIC            GISELLE     38    51\n",
       "4           2011  FEMALE  HISPANIC              GRACE     36    53"
      ]
     },
     "execution_count": 2,
     "metadata": {},
     "output_type": "execute_result"
    }
   ],
   "source": [
    "#load the baby names csv and assign it to names_df\n",
    "names_df = pd.read_csv('https://data.cityofnewyork.us/api/views/25th-nujf/rows.csv?accessType=DOWNLOAD')\n",
    "names_df.head()"
   ]
  },
  {
   "cell_type": "code",
   "execution_count": 3,
   "metadata": {},
   "outputs": [
    {
     "data": {
      "text/plain": [
       "(57582, 6)"
      ]
     },
     "execution_count": 3,
     "metadata": {},
     "output_type": "execute_result"
    }
   ],
   "source": [
    "#there are 57582 rows and 6 columns in the dataset\n",
    "names_shape = names_df.shape\n",
    "names_shape"
   ]
  },
  {
   "cell_type": "code",
   "execution_count": 4,
   "metadata": {},
   "outputs": [
    {
     "data": {
      "text/plain": [
       "0"
      ]
     },
     "execution_count": 4,
     "metadata": {},
     "output_type": "execute_result"
    }
   ],
   "source": [
    "# check that there are no missing values\n",
    "missing = names_df[names_df.isnull().any(axis=1)] \n",
    "\n",
    "names_df.isnull().any(axis=1).sum()"
   ]
  },
  {
   "cell_type": "code",
   "execution_count": 5,
   "metadata": {},
   "outputs": [
    {
     "data": {
      "text/plain": [
       "Year of Birth         False\n",
       "Gender                False\n",
       "Ethnicity             False\n",
       "Child's First Name    False\n",
       "Count                 False\n",
       "Rank                  False\n",
       "dtype: bool"
      ]
     },
     "execution_count": 5,
     "metadata": {},
     "output_type": "execute_result"
    }
   ],
   "source": [
    "names_df.isnull().any()"
   ]
  },
  {
   "cell_type": "code",
   "execution_count": 6,
   "metadata": {},
   "outputs": [],
   "source": [
    "#rename columns according to our own convenience\n",
    "names_df = names_df.rename(columns={\"Year of Birth\" : \"Year\", \"Child's First Name\" : \"Name\"})"
   ]
  },
  {
   "cell_type": "code",
   "execution_count": 7,
   "metadata": {},
   "outputs": [],
   "source": [
    "#rename columns so all names have the same format\n",
    "columns = names_df.select_dtypes(include = 'object').columns\n",
    "names_df[columns] = names_df[columns].apply(lambda x: x.str.title())"
   ]
  },
  {
   "cell_type": "code",
   "execution_count": 8,
   "metadata": {},
   "outputs": [
    {
     "data": {
      "text/html": [
       "<div>\n",
       "<style scoped>\n",
       "    .dataframe tbody tr th:only-of-type {\n",
       "        vertical-align: middle;\n",
       "    }\n",
       "\n",
       "    .dataframe tbody tr th {\n",
       "        vertical-align: top;\n",
       "    }\n",
       "\n",
       "    .dataframe thead th {\n",
       "        text-align: right;\n",
       "    }\n",
       "</style>\n",
       "<table border=\"1\" class=\"dataframe\">\n",
       "  <thead>\n",
       "    <tr style=\"text-align: right;\">\n",
       "      <th></th>\n",
       "      <th>Year</th>\n",
       "      <th>Count</th>\n",
       "      <th>Rank</th>\n",
       "    </tr>\n",
       "  </thead>\n",
       "  <tbody>\n",
       "    <tr>\n",
       "      <th>0</th>\n",
       "      <td>2011</td>\n",
       "      <td>13</td>\n",
       "      <td>75</td>\n",
       "    </tr>\n",
       "    <tr>\n",
       "      <th>1</th>\n",
       "      <td>2011</td>\n",
       "      <td>21</td>\n",
       "      <td>67</td>\n",
       "    </tr>\n",
       "    <tr>\n",
       "      <th>2</th>\n",
       "      <td>2011</td>\n",
       "      <td>49</td>\n",
       "      <td>42</td>\n",
       "    </tr>\n",
       "    <tr>\n",
       "      <th>3</th>\n",
       "      <td>2011</td>\n",
       "      <td>38</td>\n",
       "      <td>51</td>\n",
       "    </tr>\n",
       "    <tr>\n",
       "      <th>4</th>\n",
       "      <td>2011</td>\n",
       "      <td>36</td>\n",
       "      <td>53</td>\n",
       "    </tr>\n",
       "    <tr>\n",
       "      <th>...</th>\n",
       "      <td>...</td>\n",
       "      <td>...</td>\n",
       "      <td>...</td>\n",
       "    </tr>\n",
       "    <tr>\n",
       "      <th>57577</th>\n",
       "      <td>2014</td>\n",
       "      <td>18</td>\n",
       "      <td>94</td>\n",
       "    </tr>\n",
       "    <tr>\n",
       "      <th>57578</th>\n",
       "      <td>2014</td>\n",
       "      <td>24</td>\n",
       "      <td>88</td>\n",
       "    </tr>\n",
       "    <tr>\n",
       "      <th>57579</th>\n",
       "      <td>2014</td>\n",
       "      <td>16</td>\n",
       "      <td>96</td>\n",
       "    </tr>\n",
       "    <tr>\n",
       "      <th>57580</th>\n",
       "      <td>2014</td>\n",
       "      <td>90</td>\n",
       "      <td>39</td>\n",
       "    </tr>\n",
       "    <tr>\n",
       "      <th>57581</th>\n",
       "      <td>2014</td>\n",
       "      <td>49</td>\n",
       "      <td>65</td>\n",
       "    </tr>\n",
       "  </tbody>\n",
       "</table>\n",
       "<p>57582 rows × 3 columns</p>\n",
       "</div>"
      ],
      "text/plain": [
       "       Year  Count  Rank\n",
       "0      2011     13    75\n",
       "1      2011     21    67\n",
       "2      2011     49    42\n",
       "3      2011     38    51\n",
       "4      2011     36    53\n",
       "...     ...    ...   ...\n",
       "57577  2014     18    94\n",
       "57578  2014     24    88\n",
       "57579  2014     16    96\n",
       "57580  2014     90    39\n",
       "57581  2014     49    65\n",
       "\n",
       "[57582 rows x 3 columns]"
      ]
     },
     "execution_count": 8,
     "metadata": {},
     "output_type": "execute_result"
    }
   ],
   "source": [
    "#covert columns ('Year', 'Count', 'Rank') to integer data type\n",
    "names_df[['Year', 'Count', 'Rank']].astype(int)"
   ]
  },
  {
   "cell_type": "markdown",
   "metadata": {},
   "source": [
    "I would like to know what the start and end years were of the data set, so I know how what period of time this data is from."
   ]
  },
  {
   "cell_type": "code",
   "execution_count": 9,
   "metadata": {},
   "outputs": [
    {
     "data": {
      "text/plain": [
       "2011"
      ]
     },
     "execution_count": 9,
     "metadata": {},
     "output_type": "execute_result"
    }
   ],
   "source": [
    "start_year = names_df['Year'].min()\n",
    "start_year"
   ]
  },
  {
   "cell_type": "code",
   "execution_count": 10,
   "metadata": {},
   "outputs": [
    {
     "data": {
      "text/plain": [
       "2019"
      ]
     },
     "execution_count": 10,
     "metadata": {},
     "output_type": "execute_result"
    }
   ],
   "source": [
    "end_year = names_df['Year'].max()\n",
    "end_year"
   ]
  },
  {
   "cell_type": "code",
   "execution_count": 11,
   "metadata": {},
   "outputs": [
    {
     "data": {
      "text/html": [
       "<div>\n",
       "<style scoped>\n",
       "    .dataframe tbody tr th:only-of-type {\n",
       "        vertical-align: middle;\n",
       "    }\n",
       "\n",
       "    .dataframe tbody tr th {\n",
       "        vertical-align: top;\n",
       "    }\n",
       "\n",
       "    .dataframe thead th {\n",
       "        text-align: right;\n",
       "    }\n",
       "</style>\n",
       "<table border=\"1\" class=\"dataframe\">\n",
       "  <thead>\n",
       "    <tr style=\"text-align: right;\">\n",
       "      <th></th>\n",
       "      <th>Year</th>\n",
       "      <th>Gender</th>\n",
       "      <th>Ethnicity</th>\n",
       "      <th>Name</th>\n",
       "      <th>Count</th>\n",
       "      <th>Rank</th>\n",
       "    </tr>\n",
       "  </thead>\n",
       "  <tbody>\n",
       "    <tr>\n",
       "      <th>0</th>\n",
       "      <td>2011</td>\n",
       "      <td>Female</td>\n",
       "      <td>Hispanic</td>\n",
       "      <td>Geraldine</td>\n",
       "      <td>13</td>\n",
       "      <td>75</td>\n",
       "    </tr>\n",
       "    <tr>\n",
       "      <th>16062</th>\n",
       "      <td>2011</td>\n",
       "      <td>Male</td>\n",
       "      <td>Asian And Pacific Islander</td>\n",
       "      <td>Vincent</td>\n",
       "      <td>71</td>\n",
       "      <td>13</td>\n",
       "    </tr>\n",
       "    <tr>\n",
       "      <th>16061</th>\n",
       "      <td>2011</td>\n",
       "      <td>Male</td>\n",
       "      <td>Asian And Pacific Islander</td>\n",
       "      <td>Victor</td>\n",
       "      <td>17</td>\n",
       "      <td>49</td>\n",
       "    </tr>\n",
       "    <tr>\n",
       "      <th>16060</th>\n",
       "      <td>2011</td>\n",
       "      <td>Male</td>\n",
       "      <td>Asian And Pacific Islander</td>\n",
       "      <td>Tyler</td>\n",
       "      <td>31</td>\n",
       "      <td>35</td>\n",
       "    </tr>\n",
       "    <tr>\n",
       "      <th>16059</th>\n",
       "      <td>2011</td>\n",
       "      <td>Male</td>\n",
       "      <td>Asian And Pacific Islander</td>\n",
       "      <td>Travis</td>\n",
       "      <td>11</td>\n",
       "      <td>55</td>\n",
       "    </tr>\n",
       "    <tr>\n",
       "      <th>...</th>\n",
       "      <td>...</td>\n",
       "      <td>...</td>\n",
       "      <td>...</td>\n",
       "      <td>...</td>\n",
       "      <td>...</td>\n",
       "      <td>...</td>\n",
       "    </tr>\n",
       "    <tr>\n",
       "      <th>38197</th>\n",
       "      <td>2019</td>\n",
       "      <td>Male</td>\n",
       "      <td>Asian And Pacific Islander</td>\n",
       "      <td>Xavier</td>\n",
       "      <td>14</td>\n",
       "      <td>49</td>\n",
       "    </tr>\n",
       "    <tr>\n",
       "      <th>38196</th>\n",
       "      <td>2019</td>\n",
       "      <td>Male</td>\n",
       "      <td>Asian And Pacific Islander</td>\n",
       "      <td>Syed</td>\n",
       "      <td>14</td>\n",
       "      <td>49</td>\n",
       "    </tr>\n",
       "    <tr>\n",
       "      <th>38195</th>\n",
       "      <td>2019</td>\n",
       "      <td>Male</td>\n",
       "      <td>Asian And Pacific Islander</td>\n",
       "      <td>Steven</td>\n",
       "      <td>14</td>\n",
       "      <td>49</td>\n",
       "    </tr>\n",
       "    <tr>\n",
       "      <th>38223</th>\n",
       "      <td>2019</td>\n",
       "      <td>Male</td>\n",
       "      <td>Asian And Pacific Islander</td>\n",
       "      <td>Jimmy</td>\n",
       "      <td>11</td>\n",
       "      <td>52</td>\n",
       "    </tr>\n",
       "    <tr>\n",
       "      <th>38073</th>\n",
       "      <td>2019</td>\n",
       "      <td>Female</td>\n",
       "      <td>Hispanic</td>\n",
       "      <td>Yareli</td>\n",
       "      <td>10</td>\n",
       "      <td>67</td>\n",
       "    </tr>\n",
       "  </tbody>\n",
       "</table>\n",
       "<p>57582 rows × 6 columns</p>\n",
       "</div>"
      ],
      "text/plain": [
       "       Year  Gender                   Ethnicity       Name  Count  Rank\n",
       "0      2011  Female                    Hispanic  Geraldine     13    75\n",
       "16062  2011    Male  Asian And Pacific Islander    Vincent     71    13\n",
       "16061  2011    Male  Asian And Pacific Islander     Victor     17    49\n",
       "16060  2011    Male  Asian And Pacific Islander      Tyler     31    35\n",
       "16059  2011    Male  Asian And Pacific Islander     Travis     11    55\n",
       "...     ...     ...                         ...        ...    ...   ...\n",
       "38197  2019    Male  Asian And Pacific Islander     Xavier     14    49\n",
       "38196  2019    Male  Asian And Pacific Islander       Syed     14    49\n",
       "38195  2019    Male  Asian And Pacific Islander     Steven     14    49\n",
       "38223  2019    Male  Asian And Pacific Islander      Jimmy     11    52\n",
       "38073  2019  Female                    Hispanic     Yareli     10    67\n",
       "\n",
       "[57582 rows x 6 columns]"
      ]
     },
     "execution_count": 11,
     "metadata": {},
     "output_type": "execute_result"
    }
   ],
   "source": [
    "#sort in ascending order by year\n",
    "names_df = names_df.sort_values(by = 'Year')\n",
    "names_df"
   ]
  },
  {
   "cell_type": "code",
   "execution_count": 12,
   "metadata": {},
   "outputs": [
    {
     "data": {
      "text/plain": [
       "array(['Hispanic', 'Asian And Pacific Islander', 'Black Non Hispanic',\n",
       "       'White Non Hispanic', 'White Non Hisp', 'Asian And Paci',\n",
       "       'Black Non Hisp'], dtype=object)"
      ]
     },
     "execution_count": 12,
     "metadata": {},
     "output_type": "execute_result"
    }
   ],
   "source": [
    "#check for what Ethnicities are included in dataset\n",
    "ethnicities = names_df['Ethnicity'].unique()\n",
    "ethnicities"
   ]
  },
  {
   "cell_type": "code",
   "execution_count": 13,
   "metadata": {},
   "outputs": [],
   "source": [
    "#transform similar answers into one\n",
    "def standardize_ethnicity(string):\n",
    "    string = string.lower()\n",
    "    string = string.strip()\n",
    "    if 'black non hisp' in string or 'black non hispanic' in string:\n",
    "        output = 'Black Non Hispanic'\n",
    "    elif 'white non hisp' in string or 'white non hispanic' in string:\n",
    "        output = 'White Non Hispanic'\n",
    "    elif 'asian and paci' in string or 'asian and pacific islander' in string:\n",
    "        output = 'Asian and Pacific Islander'\n",
    "    else:\n",
    "        output = string\n",
    "        \n",
    "    return output"
   ]
  },
  {
   "cell_type": "code",
   "execution_count": 14,
   "metadata": {},
   "outputs": [],
   "source": [
    "names_df['Ethnicity'] = names_df['Ethnicity'].apply(standardize_ethnicity)\n",
    "names_df = names_df.dropna(subset = ['Ethnicity'])"
   ]
  },
  {
   "cell_type": "code",
   "execution_count": 15,
   "metadata": {},
   "outputs": [
    {
     "data": {
      "text/plain": [
       "array(['Hispanic', 'Asian And Pacific Islander', 'Black Non Hispanic',\n",
       "       'White Non Hispanic'], dtype=object)"
      ]
     },
     "execution_count": 15,
     "metadata": {},
     "output_type": "execute_result"
    }
   ],
   "source": [
    "names_df['Ethnicity'] = names_df['Ethnicity'].str.title()\n",
    "names_df['Ethnicity'].unique()"
   ]
  },
  {
   "cell_type": "code",
   "execution_count": 16,
   "metadata": {},
   "outputs": [
    {
     "data": {
      "text/plain": [
       "4"
      ]
     },
     "execution_count": 16,
     "metadata": {},
     "output_type": "execute_result"
    }
   ],
   "source": [
    "#number of ethnicities in dataframe\n",
    "len(names_df['Ethnicity'].unique())"
   ]
  },
  {
   "cell_type": "markdown",
   "metadata": {},
   "source": [
    "I want to make it normalized for all Ethnicities to only keep the top 5 names in each group, as we are interested in the most popular names. "
   ]
  },
  {
   "cell_type": "code",
   "execution_count": 24,
   "metadata": {
    "scrolled": true
   },
   "outputs": [
    {
     "data": {
      "text/html": [
       "<div>\n",
       "<style scoped>\n",
       "    .dataframe tbody tr th:only-of-type {\n",
       "        vertical-align: middle;\n",
       "    }\n",
       "\n",
       "    .dataframe tbody tr th {\n",
       "        vertical-align: top;\n",
       "    }\n",
       "\n",
       "    .dataframe thead th {\n",
       "        text-align: right;\n",
       "    }\n",
       "</style>\n",
       "<table border=\"1\" class=\"dataframe\">\n",
       "  <thead>\n",
       "    <tr style=\"text-align: right;\">\n",
       "      <th></th>\n",
       "      <th>Ethnicity</th>\n",
       "      <th>Name</th>\n",
       "      <th>Count</th>\n",
       "    </tr>\n",
       "  </thead>\n",
       "  <tbody>\n",
       "    <tr>\n",
       "      <th>0</th>\n",
       "      <td>Asian And Pacific Islander</td>\n",
       "      <td>Tenzin</td>\n",
       "      <td>57</td>\n",
       "    </tr>\n",
       "    <tr>\n",
       "      <th>1</th>\n",
       "      <td>Asian And Pacific Islander</td>\n",
       "      <td>Abdullah</td>\n",
       "      <td>29</td>\n",
       "    </tr>\n",
       "    <tr>\n",
       "      <th>2</th>\n",
       "      <td>Asian And Pacific Islander</td>\n",
       "      <td>Aisha</td>\n",
       "      <td>29</td>\n",
       "    </tr>\n",
       "    <tr>\n",
       "      <th>3</th>\n",
       "      <td>Asian And Pacific Islander</td>\n",
       "      <td>Alan</td>\n",
       "      <td>29</td>\n",
       "    </tr>\n",
       "    <tr>\n",
       "      <th>4</th>\n",
       "      <td>Asian And Pacific Islander</td>\n",
       "      <td>Ali</td>\n",
       "      <td>29</td>\n",
       "    </tr>\n",
       "    <tr>\n",
       "      <th>5</th>\n",
       "      <td>Black Non Hispanic</td>\n",
       "      <td>Peyton</td>\n",
       "      <td>48</td>\n",
       "    </tr>\n",
       "    <tr>\n",
       "      <th>6</th>\n",
       "      <td>Black Non Hispanic</td>\n",
       "      <td>Avery</td>\n",
       "      <td>46</td>\n",
       "    </tr>\n",
       "    <tr>\n",
       "      <th>7</th>\n",
       "      <td>Black Non Hispanic</td>\n",
       "      <td>Riley</td>\n",
       "      <td>46</td>\n",
       "    </tr>\n",
       "    <tr>\n",
       "      <th>8</th>\n",
       "      <td>Black Non Hispanic</td>\n",
       "      <td>Jordan</td>\n",
       "      <td>43</td>\n",
       "    </tr>\n",
       "    <tr>\n",
       "      <th>9</th>\n",
       "      <td>Black Non Hispanic</td>\n",
       "      <td>Logan</td>\n",
       "      <td>35</td>\n",
       "    </tr>\n",
       "    <tr>\n",
       "      <th>10</th>\n",
       "      <td>Hispanic</td>\n",
       "      <td>Ariel</td>\n",
       "      <td>54</td>\n",
       "    </tr>\n",
       "    <tr>\n",
       "      <th>11</th>\n",
       "      <td>Hispanic</td>\n",
       "      <td>Avery</td>\n",
       "      <td>50</td>\n",
       "    </tr>\n",
       "    <tr>\n",
       "      <th>12</th>\n",
       "      <td>Hispanic</td>\n",
       "      <td>Riley</td>\n",
       "      <td>47</td>\n",
       "    </tr>\n",
       "    <tr>\n",
       "      <th>13</th>\n",
       "      <td>Hispanic</td>\n",
       "      <td>Alexis</td>\n",
       "      <td>34</td>\n",
       "    </tr>\n",
       "    <tr>\n",
       "      <th>14</th>\n",
       "      <td>Hispanic</td>\n",
       "      <td>Aaliyah</td>\n",
       "      <td>29</td>\n",
       "    </tr>\n",
       "    <tr>\n",
       "      <th>15</th>\n",
       "      <td>White Non Hispanic</td>\n",
       "      <td>Quinn</td>\n",
       "      <td>57</td>\n",
       "    </tr>\n",
       "    <tr>\n",
       "      <th>16</th>\n",
       "      <td>White Non Hispanic</td>\n",
       "      <td>Dylan</td>\n",
       "      <td>56</td>\n",
       "    </tr>\n",
       "    <tr>\n",
       "      <th>17</th>\n",
       "      <td>White Non Hispanic</td>\n",
       "      <td>Ariel</td>\n",
       "      <td>47</td>\n",
       "    </tr>\n",
       "    <tr>\n",
       "      <th>18</th>\n",
       "      <td>White Non Hispanic</td>\n",
       "      <td>Riley</td>\n",
       "      <td>47</td>\n",
       "    </tr>\n",
       "    <tr>\n",
       "      <th>19</th>\n",
       "      <td>White Non Hispanic</td>\n",
       "      <td>Blake</td>\n",
       "      <td>46</td>\n",
       "    </tr>\n",
       "  </tbody>\n",
       "</table>\n",
       "</div>"
      ],
      "text/plain": [
       "                     Ethnicity      Name  Count\n",
       "0   Asian And Pacific Islander    Tenzin     57\n",
       "1   Asian And Pacific Islander  Abdullah     29\n",
       "2   Asian And Pacific Islander     Aisha     29\n",
       "3   Asian And Pacific Islander      Alan     29\n",
       "4   Asian And Pacific Islander       Ali     29\n",
       "5           Black Non Hispanic    Peyton     48\n",
       "6           Black Non Hispanic     Avery     46\n",
       "7           Black Non Hispanic     Riley     46\n",
       "8           Black Non Hispanic    Jordan     43\n",
       "9           Black Non Hispanic     Logan     35\n",
       "10                    Hispanic     Ariel     54\n",
       "11                    Hispanic     Avery     50\n",
       "12                    Hispanic     Riley     47\n",
       "13                    Hispanic    Alexis     34\n",
       "14                    Hispanic   Aaliyah     29\n",
       "15          White Non Hispanic     Quinn     57\n",
       "16          White Non Hispanic     Dylan     56\n",
       "17          White Non Hispanic     Ariel     47\n",
       "18          White Non Hispanic     Riley     47\n",
       "19          White Non Hispanic     Blake     46"
      ]
     },
     "execution_count": 24,
     "metadata": {},
     "output_type": "execute_result"
    }
   ],
   "source": [
    "#group data by 'Ethnicity' and count occurences of each name\n",
    "ethnicity_counts = names_df.groupby(['Ethnicity', 'Name']).size().reset_index(name='Count')\n",
    "\n",
    "#only keep the top 5 most popular names within each Ethnicity\n",
    "top_5 = ethnicity_counts.groupby('Ethnicity').apply(lambda x: x.nlargest(5, 'Count')).reset_index(drop=True)\n",
    "\n",
    "top_5"
   ]
  },
  {
   "cell_type": "markdown",
   "metadata": {},
   "source": [
    "# Data Visualization"
   ]
  },
  {
   "cell_type": "markdown",
   "metadata": {},
   "source": [
    "### Trend of Baby Names from 2011-2019"
   ]
  },
  {
   "cell_type": "markdown",
   "metadata": {},
   "source": [
    "I would like to create a time series plot to visualize the trend of baby names over the years. This will give me insight as to how the popularity of names has changed from 2011 to 2019."
   ]
  },
  {
   "cell_type": "code",
   "execution_count": 18,
   "metadata": {},
   "outputs": [
    {
     "data": {
      "image/png": "[encoded data removed]",
      "text/plain": [
       "<Figure size 720x432 with 1 Axes>"
      ]
     },
     "metadata": {
      "needs_background": "light"
     },
     "output_type": "display_data"
    }
   ],
   "source": [
    "yearly_counts = names_df.groupby('Year')['Count'].sum()\n",
    "plt.figure(figsize=(10, 6))\n",
    "yearly_counts.plot(marker='o', color='b')\n",
    "plt.xlabel('Year')\n",
    "plt.ylabel('Total Count of Baby Names')\n",
    "plt.title('Total Count of Baby Names Registered Each Year')\n",
    "plt.grid(True)\n",
    "plt.show()"
   ]
  },
  {
   "cell_type": "markdown",
   "metadata": {},
   "source": [
    "We can see that from 2011 to 2014, the number of baby names registered was exponentially higher than the amount of names from 2015 to 2019. There seems to be a incredible drop within 2014 to 2015, which suggests either the data may be faulty or there was a very low percentage of babies registered."
   ]
  },
  {
   "cell_type": "markdown",
   "metadata": {},
   "source": [
    "### Top 5 Names Within Each Ethnicity"
   ]
  },
  {
   "cell_type": "code",
   "execution_count": 19,
   "metadata": {},
   "outputs": [
    {
     "data": {
      "image/png": "[encoded data removed]",
      "text/plain": [
       "<Figure size 576x432 with 1 Axes>"
      ]
     },
     "metadata": {
      "needs_background": "light"
     },
     "output_type": "display_data"
    },
    {
     "data": {
      "image/png": "[encoded data removed]",
      "text/plain": [
       "<Figure size 576x432 with 1 Axes>"
      ]
     },
     "metadata": {
      "needs_background": "light"
     },
     "output_type": "display_data"
    },
    {
     "data": {
      "image/png": "[encoded data removed]",
      "text/plain": [
       "<Figure size 576x432 with 1 Axes>"
      ]
     },
     "metadata": {
      "needs_background": "light"
     },
     "output_type": "display_data"
    },
    {
     "data": {
      "image/png": "[encoded data removed]",
      "text/plain": [
       "<Figure size 576x432 with 1 Axes>"
      ]
     },
     "metadata": {
      "needs_background": "light"
     },
     "output_type": "display_data"
    }
   ],
   "source": [
    "def bar_graph(df):\n",
    "    for ethnicity in df['Ethnicity'].unique():\n",
    "        plt.figure(figsize=(8, 6))\n",
    "        sns.barplot(x='Count', y='Name', data=df[df['Ethnicity'] == ethnicity], palette='viridis')\n",
    "        plt.xlabel('Count')\n",
    "        plt.ylabel('Name')\n",
    "        plt.title(f'Top 5 Names for {ethnicity}')\n",
    "        plt.tight_layout()\n",
    "        plt.show()\n",
    "\n",
    "bar_graph(top_5)\n"
   ]
  },
  {
   "cell_type": "markdown",
   "metadata": {},
   "source": [
    "The graphs above compare the distribution of baby names across the different ethnicities. I mainly focused on the top 5 most popular names within each ethnicity in order to highlight which names are the most common. Some names that appeared within more than one ethnicity include Riley, Avery, and Ariel."
   ]
  },
  {
   "cell_type": "markdown",
   "metadata": {},
   "source": [
    "### Similarities between each Ethnicity and their Baby Names"
   ]
  },
  {
   "cell_type": "code",
   "execution_count": 20,
   "metadata": {},
   "outputs": [
    {
     "data": {
      "image/png": "[encoded data removed]",
      "text/plain": [
       "<Figure size 720x576 with 2 Axes>"
      ]
     },
     "metadata": {
      "needs_background": "light"
     },
     "output_type": "display_data"
    }
   ],
   "source": [
    "heatmap_data = top_5.pivot_table(index='Ethnicity', columns='Name', values='Count', aggfunc='sum', fill_value=0)\n",
    "plt.figure(figsize=(10, 8))\n",
    "sns.heatmap(heatmap_data, cmap='YlGnBu', annot=True, fmt='d', linewidths=0.5)\n",
    "plt.xlabel('Baby Names')\n",
    "plt.ylabel('Ethnicity')\n",
    "plt.title('Correlation between Baby Names and Ethnicities')\n",
    "plt.tight_layout()\n",
    "plt.show()"
   ]
  },
  {
   "cell_type": "markdown",
   "metadata": {},
   "source": [
    "I used a heatmap to visualize the correlation between baby names and ethnicities, hoping to identify patterns and associations between names and their respective ethnicity. We can see that certain names are popular within multiple ethnicities while some appear in only one."
   ]
  },
  {
   "cell_type": "markdown",
   "metadata": {},
   "source": [
    "# Data Analysis & Results"
   ]
  },
  {
   "cell_type": "markdown",
   "metadata": {},
   "source": [
    "### Proportion of Unique Baby Names in each Ethnicity"
   ]
  },
  {
   "cell_type": "markdown",
   "metadata": {},
   "source": [
    "I calculated the proportion of each baby name within each ethnicity in order to understand what preferences people have in their respective ethnicity when it comes to naming their child."
   ]
  },
  {
   "cell_type": "code",
   "execution_count": 21,
   "metadata": {
    "scrolled": true
   },
   "outputs": [],
   "source": [
    "total_count = names_df.groupby('Ethnicity')['Count'].sum()\n",
    "names_df['Proportion'] = names_df.apply(lambda row: row['Count'] / total_count[row['Ethnicity']], axis=1)"
   ]
  },
  {
   "cell_type": "code",
   "execution_count": 25,
   "metadata": {},
   "outputs": [
    {
     "data": {
      "text/html": [
       "<div>\n",
       "<style scoped>\n",
       "    .dataframe tbody tr th:only-of-type {\n",
       "        vertical-align: middle;\n",
       "    }\n",
       "\n",
       "    .dataframe tbody tr th {\n",
       "        vertical-align: top;\n",
       "    }\n",
       "\n",
       "    .dataframe thead th {\n",
       "        text-align: right;\n",
       "    }\n",
       "</style>\n",
       "<table border=\"1\" class=\"dataframe\">\n",
       "  <thead>\n",
       "    <tr style=\"text-align: right;\">\n",
       "      <th></th>\n",
       "      <th>Ethnicity</th>\n",
       "      <th>Year</th>\n",
       "      <th>Proportion_Unique_Names</th>\n",
       "    </tr>\n",
       "  </thead>\n",
       "  <tbody>\n",
       "    <tr>\n",
       "      <th>0</th>\n",
       "      <td>Asian And Pacific Islander</td>\n",
       "      <td>2011</td>\n",
       "      <td>0.097103</td>\n",
       "    </tr>\n",
       "    <tr>\n",
       "      <th>1</th>\n",
       "      <td>Asian And Pacific Islander</td>\n",
       "      <td>2012</td>\n",
       "      <td>0.113658</td>\n",
       "    </tr>\n",
       "    <tr>\n",
       "      <th>2</th>\n",
       "      <td>Asian And Pacific Islander</td>\n",
       "      <td>2013</td>\n",
       "      <td>0.110793</td>\n",
       "    </tr>\n",
       "    <tr>\n",
       "      <th>3</th>\n",
       "      <td>Asian And Pacific Islander</td>\n",
       "      <td>2014</td>\n",
       "      <td>0.118434</td>\n",
       "    </tr>\n",
       "    <tr>\n",
       "      <th>4</th>\n",
       "      <td>Asian And Pacific Islander</td>\n",
       "      <td>2015</td>\n",
       "      <td>0.118752</td>\n",
       "    </tr>\n",
       "    <tr>\n",
       "      <th>5</th>\n",
       "      <td>Asian And Pacific Islander</td>\n",
       "      <td>2016</td>\n",
       "      <td>0.119707</td>\n",
       "    </tr>\n",
       "    <tr>\n",
       "      <th>6</th>\n",
       "      <td>Asian And Pacific Islander</td>\n",
       "      <td>2017</td>\n",
       "      <td>0.110156</td>\n",
       "    </tr>\n",
       "    <tr>\n",
       "      <th>7</th>\n",
       "      <td>Asian And Pacific Islander</td>\n",
       "      <td>2018</td>\n",
       "      <td>0.106017</td>\n",
       "    </tr>\n",
       "    <tr>\n",
       "      <th>8</th>\n",
       "      <td>Asian And Pacific Islander</td>\n",
       "      <td>2019</td>\n",
       "      <td>0.105380</td>\n",
       "    </tr>\n",
       "    <tr>\n",
       "      <th>9</th>\n",
       "      <td>Black Non Hispanic</td>\n",
       "      <td>2011</td>\n",
       "      <td>0.119760</td>\n",
       "    </tr>\n",
       "    <tr>\n",
       "      <th>10</th>\n",
       "      <td>Black Non Hispanic</td>\n",
       "      <td>2012</td>\n",
       "      <td>0.110306</td>\n",
       "    </tr>\n",
       "    <tr>\n",
       "      <th>11</th>\n",
       "      <td>Black Non Hispanic</td>\n",
       "      <td>2013</td>\n",
       "      <td>0.114718</td>\n",
       "    </tr>\n",
       "    <tr>\n",
       "      <th>12</th>\n",
       "      <td>Black Non Hispanic</td>\n",
       "      <td>2014</td>\n",
       "      <td>0.115033</td>\n",
       "    </tr>\n",
       "    <tr>\n",
       "      <th>13</th>\n",
       "      <td>Black Non Hispanic</td>\n",
       "      <td>2015</td>\n",
       "      <td>0.113457</td>\n",
       "    </tr>\n",
       "    <tr>\n",
       "      <th>14</th>\n",
       "      <td>Black Non Hispanic</td>\n",
       "      <td>2016</td>\n",
       "      <td>0.107784</td>\n",
       "    </tr>\n",
       "    <tr>\n",
       "      <th>15</th>\n",
       "      <td>Black Non Hispanic</td>\n",
       "      <td>2017</td>\n",
       "      <td>0.106839</td>\n",
       "    </tr>\n",
       "    <tr>\n",
       "      <th>16</th>\n",
       "      <td>Black Non Hispanic</td>\n",
       "      <td>2018</td>\n",
       "      <td>0.106209</td>\n",
       "    </tr>\n",
       "    <tr>\n",
       "      <th>17</th>\n",
       "      <td>Black Non Hispanic</td>\n",
       "      <td>2019</td>\n",
       "      <td>0.105893</td>\n",
       "    </tr>\n",
       "    <tr>\n",
       "      <th>18</th>\n",
       "      <td>Hispanic</td>\n",
       "      <td>2011</td>\n",
       "      <td>0.119255</td>\n",
       "    </tr>\n",
       "    <tr>\n",
       "      <th>19</th>\n",
       "      <td>Hispanic</td>\n",
       "      <td>2012</td>\n",
       "      <td>0.114408</td>\n",
       "    </tr>\n",
       "    <tr>\n",
       "      <th>20</th>\n",
       "      <td>Hispanic</td>\n",
       "      <td>2013</td>\n",
       "      <td>0.115959</td>\n",
       "    </tr>\n",
       "    <tr>\n",
       "      <th>21</th>\n",
       "      <td>Hispanic</td>\n",
       "      <td>2014</td>\n",
       "      <td>0.113050</td>\n",
       "    </tr>\n",
       "    <tr>\n",
       "      <th>22</th>\n",
       "      <td>Hispanic</td>\n",
       "      <td>2015</td>\n",
       "      <td>0.110723</td>\n",
       "    </tr>\n",
       "    <tr>\n",
       "      <th>23</th>\n",
       "      <td>Hispanic</td>\n",
       "      <td>2016</td>\n",
       "      <td>0.114214</td>\n",
       "    </tr>\n",
       "    <tr>\n",
       "      <th>24</th>\n",
       "      <td>Hispanic</td>\n",
       "      <td>2017</td>\n",
       "      <td>0.107621</td>\n",
       "    </tr>\n",
       "    <tr>\n",
       "      <th>25</th>\n",
       "      <td>Hispanic</td>\n",
       "      <td>2018</td>\n",
       "      <td>0.104712</td>\n",
       "    </tr>\n",
       "    <tr>\n",
       "      <th>26</th>\n",
       "      <td>Hispanic</td>\n",
       "      <td>2019</td>\n",
       "      <td>0.100058</td>\n",
       "    </tr>\n",
       "    <tr>\n",
       "      <th>27</th>\n",
       "      <td>White Non Hispanic</td>\n",
       "      <td>2011</td>\n",
       "      <td>0.100140</td>\n",
       "    </tr>\n",
       "    <tr>\n",
       "      <th>28</th>\n",
       "      <td>White Non Hispanic</td>\n",
       "      <td>2012</td>\n",
       "      <td>0.107902</td>\n",
       "    </tr>\n",
       "    <tr>\n",
       "      <th>29</th>\n",
       "      <td>White Non Hispanic</td>\n",
       "      <td>2013</td>\n",
       "      <td>0.109610</td>\n",
       "    </tr>\n",
       "    <tr>\n",
       "      <th>30</th>\n",
       "      <td>White Non Hispanic</td>\n",
       "      <td>2014</td>\n",
       "      <td>0.114113</td>\n",
       "    </tr>\n",
       "    <tr>\n",
       "      <th>31</th>\n",
       "      <td>White Non Hispanic</td>\n",
       "      <td>2015</td>\n",
       "      <td>0.112405</td>\n",
       "    </tr>\n",
       "    <tr>\n",
       "      <th>32</th>\n",
       "      <td>White Non Hispanic</td>\n",
       "      <td>2016</td>\n",
       "      <td>0.115355</td>\n",
       "    </tr>\n",
       "    <tr>\n",
       "      <th>33</th>\n",
       "      <td>White Non Hispanic</td>\n",
       "      <td>2017</td>\n",
       "      <td>0.111163</td>\n",
       "    </tr>\n",
       "    <tr>\n",
       "      <th>34</th>\n",
       "      <td>White Non Hispanic</td>\n",
       "      <td>2018</td>\n",
       "      <td>0.115044</td>\n",
       "    </tr>\n",
       "    <tr>\n",
       "      <th>35</th>\n",
       "      <td>White Non Hispanic</td>\n",
       "      <td>2019</td>\n",
       "      <td>0.114268</td>\n",
       "    </tr>\n",
       "  </tbody>\n",
       "</table>\n",
       "</div>"
      ],
      "text/plain": [
       "                     Ethnicity  Year  Proportion_Unique_Names\n",
       "0   Asian And Pacific Islander  2011                 0.097103\n",
       "1   Asian And Pacific Islander  2012                 0.113658\n",
       "2   Asian And Pacific Islander  2013                 0.110793\n",
       "3   Asian And Pacific Islander  2014                 0.118434\n",
       "4   Asian And Pacific Islander  2015                 0.118752\n",
       "5   Asian And Pacific Islander  2016                 0.119707\n",
       "6   Asian And Pacific Islander  2017                 0.110156\n",
       "7   Asian And Pacific Islander  2018                 0.106017\n",
       "8   Asian And Pacific Islander  2019                 0.105380\n",
       "9           Black Non Hispanic  2011                 0.119760\n",
       "10          Black Non Hispanic  2012                 0.110306\n",
       "11          Black Non Hispanic  2013                 0.114718\n",
       "12          Black Non Hispanic  2014                 0.115033\n",
       "13          Black Non Hispanic  2015                 0.113457\n",
       "14          Black Non Hispanic  2016                 0.107784\n",
       "15          Black Non Hispanic  2017                 0.106839\n",
       "16          Black Non Hispanic  2018                 0.106209\n",
       "17          Black Non Hispanic  2019                 0.105893\n",
       "18                    Hispanic  2011                 0.119255\n",
       "19                    Hispanic  2012                 0.114408\n",
       "20                    Hispanic  2013                 0.115959\n",
       "21                    Hispanic  2014                 0.113050\n",
       "22                    Hispanic  2015                 0.110723\n",
       "23                    Hispanic  2016                 0.114214\n",
       "24                    Hispanic  2017                 0.107621\n",
       "25                    Hispanic  2018                 0.104712\n",
       "26                    Hispanic  2019                 0.100058\n",
       "27          White Non Hispanic  2011                 0.100140\n",
       "28          White Non Hispanic  2012                 0.107902\n",
       "29          White Non Hispanic  2013                 0.109610\n",
       "30          White Non Hispanic  2014                 0.114113\n",
       "31          White Non Hispanic  2015                 0.112405\n",
       "32          White Non Hispanic  2016                 0.115355\n",
       "33          White Non Hispanic  2017                 0.111163\n",
       "34          White Non Hispanic  2018                 0.115044\n",
       "35          White Non Hispanic  2019                 0.114268"
      ]
     },
     "execution_count": 25,
     "metadata": {},
     "output_type": "execute_result"
    }
   ],
   "source": [
    "#calculate the number of unique names for each ethnicity in each year\n",
    "diversity = names_df.groupby(['Ethnicity', 'Year'])['Name'].nunique().reset_index(name='Unique_Names')\n",
    "\n",
    "#calculate the total number of unique names for each ethnicity across all years\n",
    "total_unique_names = diversity_by_ethnicity.groupby('Ethnicity')['Unique_Names'].sum().reset_index(name='Total_Unique_Names')\n",
    "\n",
    "#calculate the average number of unique names per year for each ethnicity\n",
    "average_unique_names = total_unique_names['Total_Unique_Names'] / (names_df['Year'].nunique())\n",
    "\n",
    "#merge the average number of unique names per year back to the diversity DataFrame\n",
    "diversity = pd.merge(diversity, total_unique_names, on='Ethnicity')\n",
    "diversity['Average_Unique_Names_Per_Year'] = average_unique_names\n",
    "\n",
    "#calculate the proportion of unique names for each ethnicity in each year\n",
    "diversity['Proportion_Unique_Names'] = diversity['Unique_Names'] / diversity['Total_Unique_Names']\n",
    "\n",
    "diversity[['Ethnicity', 'Year', 'Proportion_Unique_Names']]\n"
   ]
  },
  {
   "cell_type": "markdown",
   "metadata": {},
   "source": [
    "### OLS Regression: Impact of Ethnicity"
   ]
  },
  {
   "cell_type": "markdown",
   "metadata": {},
   "source": [
    "I performed a regression analysis to understand how demographic factors, such as ethnicity can have on baby names."
   ]
  },
  {
   "cell_type": "code",
   "execution_count": 23,
   "metadata": {},
   "outputs": [
    {
     "name": "stdout",
     "output_type": "stream",
     "text": [
      "                            OLS Regression Results                            \n",
      "==============================================================================\n",
      "Dep. Variable:                  Count   R-squared:                       0.019\n",
      "Model:                            OLS   Adj. R-squared:                  0.018\n",
      "Method:                 Least Squares   F-statistic:                     362.6\n",
      "Date:                Sat, 05 Aug 2023   Prob (F-statistic):          2.51e-233\n",
      "Time:                        09:13:27   Log-Likelihood:            -2.9216e+05\n",
      "No. Observations:               57582   AIC:                         5.843e+05\n",
      "Df Residuals:                   57578   BIC:                         5.844e+05\n",
      "Df Model:                           3                                         \n",
      "Covariance Type:            nonrobust                                         \n",
      "===================================================================================================\n",
      "                                      coef    std err          t      P>|t|      [0.025      0.975]\n",
      "---------------------------------------------------------------------------------------------------\n",
      "Intercept                          26.4322      0.388     68.208      0.000      25.673      27.192\n",
      "Ethnicity[T.Black Non Hispanic]     0.6842      0.542      1.263      0.207      -0.378       1.746\n",
      "Ethnicity[T.Hispanic]              12.0379      0.488     24.651      0.000      11.081      12.995\n",
      "Ethnicity[T.White Non Hispanic]    10.8923      0.473     23.018      0.000       9.965      11.820\n",
      "==============================================================================\n",
      "Omnibus:                    40691.947   Durbin-Watson:                   1.807\n",
      "Prob(Omnibus):                  0.000   Jarque-Bera (JB):           604386.255\n",
      "Skew:                           3.331   Prob(JB):                         0.00\n",
      "Kurtosis:                      17.406   Cond. No.                         5.74\n",
      "==============================================================================\n",
      "\n",
      "Notes:\n",
      "[1] Standard Errors assume that the covariance matrix of the errors is correctly specified.\n"
     ]
    }
   ],
   "source": [
    "y,x=patsy.dmatrices('Count ~ Ethnicity',names_df)\n",
    "mod=sm.OLS(y,x)\n",
    "res_1=mod.fit()\n",
    "print(res_1.summary())"
   ]
  },
  {
   "cell_type": "markdown",
   "metadata": {},
   "source": [
    "### Interpretation of OLS Regression\n",
    "\n",
    "R-Squared value: 0.019\n",
    "- This indicates that only 1.9% of the variance of the popularity of certain baby names can be explained by ethnicity variables. Thus, ethnicity (on its own) does not have a strong influence on popularity of baby names.\n",
    "\n",
    "P-values:\n",
    "- Among the ethnicity values, Hispanic and White Non Hispanic has p-values less than 0.05, suggesting that they are statistically significant. The popularity of baby names differ significantly between these ethnicities and Asian and Pacific Islander (reference ethnicity)\n",
    "- Black Non Hispanic has a p-value of 0.207, which is greater than 0.05. This suggests that there is no significant difference in baby names' popularity between this ethnicity and and Asian and Pacific Islander (reference ethnicity)."
   ]
  },
  {
   "cell_type": "markdown",
   "metadata": {},
   "source": [
    "# Ethics & Privacy"
   ]
  },
  {
   "cell_type": "markdown",
   "metadata": {},
   "source": [
    "My project used a single set of data that was collected through civil birth registration by the Sex and Ethnic Group Data. This dataset was found on an official website and was published as a public dataset. This analysis is only applicable to New York, as it was collected specifically for babies born and registered in New York. The data set is limited to the years of 2011-2019, and was not significantly impacted by pop culture or other factors that may skew the results dramatically. Overall, I have considered potential ethical concerns and issues and addressed them accordingly throughout the tragectory of my project."
   ]
  },
  {
   "cell_type": "markdown",
   "metadata": {},
   "source": [
    "# Conclusion & Discussion"
   ]
  },
  {
   "cell_type": "markdown",
   "metadata": {},
   "source": [
    "The results of the analysis and OLS Regression was able to demonstrate the relationship between ethnicity and baby naming trends in New York from 2011 to 2019. The regression analysis showed that the popularity of baby names varies across distinct ethnicities. For example, names for 'Hispanic' and 'White Non Hispanic' ethnicities had a statistically significant impact on baby naming preferences compared to the 'Asian and Pacific Islander' ethnicity. This implicates that there are cultural and ethnic factors that can play a role when it comes to shaping a choice for the name of your baby.\n",
    "\n",
    "However, it is interesting to note that the regression analysis also showcased that the 'Black Non Hispanic' ethnicity had no significant impact on baby naming trends. This may suggest that within this specific ethnic group, there may be other factors such as historical, social, or cultural influences (or even just preference) that shape their choice of baby names. We also must note that the R-square value is low, so ethnicity alone does not have a strong influence on baby naming trends.\n",
    "\n",
    "In conclusion, the analysis offers valuable insight onto the influences of ethnicity on baby naming trends in New York. However, we must understand that the art of baby naming is widely influenced by a wide array of complex factors. "
   ]
  },
  {
   "cell_type": "markdown",
   "metadata": {},
   "source": [
    "### Limitations\n",
    "\n",
    "I initially was struggling to find a dataset that was interesting enough for me to make a research question on. I changed my choice a lot, which made it difficult to even begin the project. I had trouble getting my own repo, which I am not sure if I have one yet, and I never was able to find a group to join (which was definitely my fault!). I think completing this project alone was incredibly challenging especially due to my other commitments that take up 40+ hours of my week. However, all that aside, I tried to make good choices and push through!\n",
    "\n",
    "My data was limited as I could only find data from New York and not California or San Diego, but I love New York and was still interested in its baby names. I was also not expecting the data to only be from 2011 to 2019, but it still had a large amount of data to analyze and interpret. The regression model also had a low R-square value, which indicates that ethnicity alone cannot explain a substantial portion of the variation in the baby names' popularity. We would need to explore other variables."
   ]
  },
  {
   "cell_type": "markdown",
   "metadata": {},
   "source": [
    "# Team Contributions\n",
    "\n",
    "- Nini Pham: everything! (plus help from articles, TA, professor)\n",
    "\n",
    "Thank you for an amazing quarter! lthough I have struggled a bit with finishing this project with my best efforts, I hope I was able to finish the quarter off strong. Thank you again!! <3"
   ]
  }
 ],
 "metadata": {
  "kernelspec": {
   "display_name": "Python 3 (ipykernel)",
   "language": "python",
   "name": "python3"
  },
  "language_info": {
   "codemirror_mode": {
    "name": "ipython",
    "version": 3
   },
   "file_extension": ".py",
   "mimetype": "text/x-python",
   "name": "python",
   "nbconvert_exporter": "python",
   "pygments_lexer": "ipython3",
   "version": "3.9.5"
  }
 },
 "nbformat": 4,
 "nbformat_minor": 2
}
